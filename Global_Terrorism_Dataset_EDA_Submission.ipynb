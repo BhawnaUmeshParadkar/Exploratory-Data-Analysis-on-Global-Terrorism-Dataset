{
  "nbformat": 4,
  "nbformat_minor": 0,
  "metadata": {
    "colab": {
      "private_outputs": true,
      "provenance": [],
      "collapsed_sections": [
        "w6K7xa23Elo4",
        "t27r6nlMphqO",
        "b0JNsNcRphqO",
        "gIfDvo9L0UH2"
      ],
      "include_colab_link": true
    },
    "kernelspec": {
      "name": "python3",
      "display_name": "Python 3"
    },
    "language_info": {
      "name": "python"
    }
  },
  "cells": [
    {
      "cell_type": "markdown",
      "metadata": {
        "id": "view-in-github",
        "colab_type": "text"
      },
      "source": [
        "<a href=\"https://colab.research.google.com/github/BhawnaUmeshParadkar/Exploratory-Data-Analysis-on-Global-Terrorism-Dataset/blob/main/Global_Terrorism_Dataset_EDA_Submission.ipynb\" target=\"_parent\"><img src=\"https://colab.research.google.com/assets/colab-badge.svg\" alt=\"Open In Colab\"/></a>"
      ]
    },
    {
      "cell_type": "markdown",
      "source": [
        "# **Project Name** - **Global Terrorism Dataset  Analysis**\n",
        "\n"
      ],
      "metadata": {
        "id": "vncDsAP0Gaoa"
      }
    },
    {
      "cell_type": "markdown",
      "source": [
        "##### **Project Type**    - EDA\n",
        "##### **Contribution**    - Individual\n"
      ],
      "metadata": {
        "id": "beRrZCGUAJYm"
      }
    },
    {
      "cell_type": "markdown",
      "source": [
        "# **Project Summary -**"
      ],
      "metadata": {
        "id": "FJNUwmbgGyua"
      }
    },
    {
      "cell_type": "markdown",
      "source": [
        "**Objective**\n",
        "\n",
        "The primary objective of this project was to analyze the Global Terrorism Database (GTD) from 1970 to 1986 to identify trends, patterns, and characteristics of global terrorist activities. The ultimate goal was to generate actionable insights to enhance counter-terrorism strategies, inform policy decisions, and improve resource allocation for security agencies and policymakers.\n",
        "\n",
        "**Data Analysis**\n",
        "\n",
        "**Temporal Trends:**\n",
        "\n",
        "*   **Yearly Analysis**: The year 1981 had the highest number of terrorist attacks (2362), while 1986 had the least (1).\n",
        "* **Monthly Analysis**: The month with the highest number of attacks was May.\n",
        "*   **Daily Analysis:** The 15th day of the month saw the highest number of attacks.\n",
        "\n",
        "**Geographic Distribution:**\n",
        "\n",
        "*    **Region Analysis:** Western Europe experienced the highest number of attacks (5190), whereas Australasia & Oceania had the least (22).\n",
        "*    **Country Analysis:** The United Kingdom was the most affected country (1791 attacks), with Belfast being the most impacted city (849 attacks).\n",
        "*    **City Analysis:** Identified cities with the highest and lowest number of attacks\n",
        "\n",
        "**Attack Characteristics:**\n",
        "\n",
        "*  **Attack Types**: Bombing/Explosion was the most common type of attack.\n",
        "*  **Weapon Types**: Explosives were the most used weapons.\n",
        "*  **Target Types**: Business areas were the most frequently targeted.\n",
        "\n",
        "\n",
        "**Terrorist Groups:**\n",
        "\n",
        "* **Most Active Groups:** The Irish Republican Army (IRA) was the most active terrorist group with 1056 attacks in the United Kingdom.\n",
        "\n",
        "**Success Rates:**\n",
        "\n",
        "* **By Country**: Analyzed the success rates of terrorist attacks by country.\n",
        "* **By Region**: Analyzed the success rates of terrorist attacks by region.\n",
        "\n",
        "**Visualization Techniques:**\n",
        "* Various visualizations were used to effectively communicate the insights.\n",
        "\n",
        "* Bar charts to show the distribution of attacks by region, country, city, and type.\n",
        "* Heatmaps to illustrate the number of attacks by region and year.\n",
        "* Donut charts to visualize success rates by attack type, target type, and weapon type.\n",
        "* Interactive widgets to explore the number of attacks by region for each year.\n",
        "* Pairplots to explore correlations between numerical variables.\n",
        "\n",
        "**Insights and Recommendations:**\n",
        "\n",
        "**Hotspots and High-Risk Areas:** Western Europe and the United Kingdom, particularly Belfast, are significant hotspots for terrorist activities. Enhanced security measures and resource allocation are recommended for these areas.\n",
        "\n",
        "**Common Attack Methods and Targets:** Bombings and explosions targeting business areas were the most common. Security agencies should focus on preventative measures against these types of attacks.\n",
        "\n",
        "**Active Terrorist Groups:** The IRA’s prominence in the UK suggests the need for specific counter-terrorism strategies targeting their activities.\n",
        "\n",
        "**Temporal Patterns:** The spike in attacks in specific years, months, and days can inform the timing of increased vigilance and preventive actions.\n",
        "\n",
        "**Conclusion**\n",
        "\n",
        "The project successfully provided a comprehensive analysis of global terrorist activities from 1970 to 1986. The derived insights highlight key areas for further investigation and strategic planning. By focusing on identified trends and patterns, policymakers and security agencies can develop more effective counter-terrorism measures, leading to improved safety and security.This analysis serves as a foundational step towards understanding the complex landscape of terrorism, paving the way for data-driven decisions and proactive strategies in combating terrorism globally.\n",
        "\n",
        "\n",
        "\n",
        "\n",
        "\n",
        "\n"
      ],
      "metadata": {
        "id": "F6v_1wHtG2nS"
      }
    },
    {
      "cell_type": "markdown",
      "source": [
        "# **GitHub Link -**"
      ],
      "metadata": {
        "id": "w6K7xa23Elo4"
      }
    },
    {
      "cell_type": "markdown",
      "source": [
        "Provide your GitHub Link here."
      ],
      "metadata": {
        "id": "h1o69JH3Eqqn"
      }
    },
    {
      "cell_type": "markdown",
      "source": [
        "# **Problem Statement**\n"
      ],
      "metadata": {
        "id": "yQaldy8SH6Dl"
      }
    },
    {
      "cell_type": "markdown",
      "source": [
        "**Analyzing Global Terrorism Trends and Patterns Using the Global Terrorism Database (GTD)**\n",
        "\n",
        "**Background:**\n",
        "\n",
        "The Global Terrorism Database (GTD) is an open-source database that documents over 180,000 terrorist attacks worldwide from 1970 to 2017. This comprehensive dataset includes systematic information on both domestic and international terrorist incidents. Maintained by researchers at the National Consortium for the Study of Terrorism and Responses to Terrorism (START) at the University of Maryland, the GTD is a critical resource for understanding global terrorism. The objective of this analysis is to explore and analyze the GTD to discover key findings related to terrorist activities, including trends, patterns, attack characteristics, geographic distribution, impacts, and profiles of perpetrators. The insights gained will inform and enhance counter-terrorism strategies and policies."
      ],
      "metadata": {
        "id": "DpeJGUA3kjGy"
      }
    },
    {
      "cell_type": "markdown",
      "source": [
        "#### **Define Your Business Objective?**"
      ],
      "metadata": {
        "id": "PH-0ReGfmX4f"
      }
    },
    {
      "cell_type": "markdown",
      "source": [
        "1.To analyze the Global Terrorism Database (GTD) to identify trends, patterns, and characteristics of global terrorist activities from 1970 to 2017. The goal is to generate actionable insights to enhance counter-terrorism strategies, inform policy decisions, and improve resource allocation for security agencies and policymakers.\n",
        "\n",
        "2.Identify long-term trends and temporal patterns in terrorist activities.\n",
        "\n",
        "3.Map the geographic distribution of terrorist attacks and identify hotspots.\n",
        "\n",
        "4.Classify attack types, targets, and methods.\n",
        "\n",
        "5.Quantify the human and economic impact of terrorism.\n",
        "\n",
        "6.Profile active terrorist groups and their motives.\n",
        "\n",
        "7.Provide data-driven recommendations to enhance counter-terrorism measures."
      ],
      "metadata": {
        "id": "PhDvGCAqmjP1"
      }
    },
    {
      "cell_type": "markdown",
      "source": [
        "Dataset Link Excel File: https://docs.google.com/spreadsheets/d/1A9PT6pydOntSWHg42goyh4_GaXFNvPJq/edit?usp=sharing&ouid=101263955461018102472&rtpof=true&sd=true\n",
        "\n",
        "\n",
        "Dataset Link CSV File:https://drive.google.com/file/d/1cllo21muBPuxGXKi1AneBx3GX-axoY6t/view?usp=sharing"
      ],
      "metadata": {
        "id": "PXQRTtqRT1QB"
      }
    },
    {
      "cell_type": "markdown",
      "source": [
        "# **General Guidelines** : -  "
      ],
      "metadata": {
        "id": "mDgbUHAGgjLW"
      }
    },
    {
      "cell_type": "markdown",
      "source": [
        "1.   Well-structured, formatted, and commented code is required.\n",
        "2.   Exception Handling, Production Grade Code & Deployment Ready Code will be a plus. Those students will be awarded some additional credits.\n",
        "     \n",
        "     The additional credits will have advantages over other students during Star Student selection.\n",
        "       \n",
        "             [ Note: - Deployment Ready Code is defined as, the whole .ipynb notebook should be executable in one go\n",
        "                       without a single error logged. ]\n",
        "\n",
        "3.   Each and every logic should have proper comments.\n",
        "4. You may add as many number of charts you want. Make Sure for each and every chart the following format should be answered.\n",
        "        \n",
        "\n",
        "```\n",
        "# Chart visualization code\n",
        "```\n",
        "            \n",
        "\n",
        "*   Why did you pick the specific chart?\n",
        "*   What is/are the insight(s) found from the chart?\n",
        "* Will the gained insights help creating a positive business impact?\n",
        "Are there any insights that lead to negative growth? Justify with specific reason.\n",
        "\n",
        "5. You have to create at least 20 logical & meaningful charts having important insights.\n",
        "\n",
        "\n",
        "[ Hints : - Do the Vizualization in  a structured way while following \"UBM\" Rule.\n",
        "\n",
        "U - Univariate Analysis,\n",
        "\n",
        "B - Bivariate Analysis (Numerical - Categorical, Numerical - Numerical, Categorical - Categorical)\n",
        "\n",
        "M - Multivariate Analysis\n",
        " ]\n",
        "\n",
        "\n",
        "\n"
      ],
      "metadata": {
        "id": "ZrxVaUj-hHfC"
      }
    },
    {
      "cell_type": "markdown",
      "source": [
        "# ***Let's Begin !***"
      ],
      "metadata": {
        "id": "O_i_v8NEhb9l"
      }
    },
    {
      "cell_type": "markdown",
      "source": [
        "## ***1. Know Your Data***"
      ],
      "metadata": {
        "id": "HhfV-JJviCcP"
      }
    },
    {
      "cell_type": "markdown",
      "source": [
        "### Import Libraries"
      ],
      "metadata": {
        "id": "Y3lxredqlCYt"
      }
    },
    {
      "cell_type": "code",
      "source": [
        "# Import Libraries\n",
        "import numpy as np\n",
        "import pandas as pd\n",
        "from numpy import math\n",
        "from numpy import loadtxt\n",
        "import seaborn as sns\n",
        "import matplotlib.pyplot as plt\n",
        "import plotly.express as px\n",
        "import plotly.graph_objects as go\n",
        "from plotly.subplots import make_subplots\n",
        "%matplotlib inline\n",
        "from matplotlib import rcParams"
      ],
      "metadata": {
        "id": "5XUeMWt6oU9Q"
      },
      "execution_count": null,
      "outputs": []
    },
    {
      "cell_type": "markdown",
      "source": [
        "### Dataset Loading"
      ],
      "metadata": {
        "id": "3RnN4peoiCZX"
      }
    },
    {
      "cell_type": "code",
      "source": [
        "# Read the CSV file with a specified encoding\n",
        "df = pd.read_excel('/content/drive/MyDrive/Global_Terrorism_Cleaned_Data (2).xlsx')\n",
        "\n",
        "# Display the first few rows of the DataFrame\n",
        "print(df.head())\n"
      ],
      "metadata": {
        "id": "4CkvbW_SlZ_R"
      },
      "execution_count": null,
      "outputs": []
    },
    {
      "cell_type": "code",
      "source": [
        "from google.colab import drive\n",
        "drive.mount('/content/drive')"
      ],
      "metadata": {
        "id": "h3-6qMVDjznP"
      },
      "execution_count": null,
      "outputs": []
    },
    {
      "cell_type": "markdown",
      "source": [
        "### Dataset First View"
      ],
      "metadata": {
        "id": "x71ZqKXriCWQ"
      }
    },
    {
      "cell_type": "code",
      "source": [
        "# Dataset First Look\n",
        "df.head()"
      ],
      "metadata": {
        "id": "LWNFOSvLl09H"
      },
      "execution_count": null,
      "outputs": []
    },
    {
      "cell_type": "markdown",
      "source": [
        "### Dataset Rows & Columns count"
      ],
      "metadata": {
        "id": "7hBIi_osiCS2"
      }
    },
    {
      "cell_type": "code",
      "source": [
        "# Dataset Rows & Columns count\n",
        "df.shape"
      ],
      "metadata": {
        "id": "Kllu7SJgmLij"
      },
      "execution_count": null,
      "outputs": []
    },
    {
      "cell_type": "markdown",
      "source": [
        "### Dataset Information"
      ],
      "metadata": {
        "id": "JlHwYmJAmNHm"
      }
    },
    {
      "cell_type": "code",
      "source": [
        "# Dataset Info\n",
        "df.info()"
      ],
      "metadata": {
        "id": "e9hRXRi6meOf"
      },
      "execution_count": null,
      "outputs": []
    },
    {
      "cell_type": "markdown",
      "source": [
        "#### Duplicate Values"
      ],
      "metadata": {
        "id": "35m5QtbWiB9F"
      }
    },
    {
      "cell_type": "code",
      "source": [
        "# Dataset Duplicate Value Count\n",
        "len(df[df.duplicated()])"
      ],
      "metadata": {
        "id": "1sLdpKYkmox0"
      },
      "execution_count": null,
      "outputs": []
    },
    {
      "cell_type": "code",
      "source": [
        "df.drop_duplicates(inplace=True)"
      ],
      "metadata": {
        "id": "EciJ_FfsQ-hC"
      },
      "execution_count": null,
      "outputs": []
    },
    {
      "cell_type": "markdown",
      "source": [
        "#### Missing Values/Null Values"
      ],
      "metadata": {
        "id": "PoPl-ycgm1ru"
      }
    },
    {
      "cell_type": "code",
      "source": [
        "# Missing Values/Null Values Count\n",
        "print(df.isnull().sum())"
      ],
      "metadata": {
        "id": "GgHWkxvamxVg"
      },
      "execution_count": null,
      "outputs": []
    },
    {
      "cell_type": "code",
      "source": [
        "# Visualizing the missing values\n",
        "\n",
        "# Checking Null Value by plotting Heatmap\n",
        "sns.heatmap(df.isnull(), cbar=False)"
      ],
      "metadata": {
        "id": "3q5wnI3om9sJ"
      },
      "execution_count": null,
      "outputs": []
    },
    {
      "cell_type": "markdown",
      "source": [
        "### What did you know about your dataset?"
      ],
      "metadata": {
        "id": "H0kj-8xxnORC"
      }
    },
    {
      "cell_type": "markdown",
      "source": [
        "The Global Terrorism Database (GTD) is a comprehensive dataset that provides detailed information on terrorist attacks around the world from 1970 through 2017. The dataset includes over 180,000 recorded incidents and is maintained by researchers at the National Consortium for the Study of Terrorism and Responses to Terrorism (START) at the University of Maryland.\n",
        "\n",
        "The above dataset has 13721 rows and 14 columns. There are no mising values and duplicate values in the dataset."
      ],
      "metadata": {
        "id": "gfoNAAC-nUe_"
      }
    },
    {
      "cell_type": "markdown",
      "source": [
        "## ***2. Understanding Your Variables***"
      ],
      "metadata": {
        "id": "nA9Y7ga8ng1Z"
      }
    },
    {
      "cell_type": "code",
      "source": [
        "# Dataset Columns\n",
        "df.columns"
      ],
      "metadata": {
        "id": "j7xfkqrt5Ag5"
      },
      "execution_count": null,
      "outputs": []
    },
    {
      "cell_type": "code",
      "source": [
        "# Dataset Describe\n",
        "df.describe()"
      ],
      "metadata": {
        "id": "DnOaZdaE5Q5t"
      },
      "execution_count": null,
      "outputs": []
    },
    {
      "cell_type": "markdown",
      "source": [
        "### Variables Description"
      ],
      "metadata": {
        "id": "PBTbrJXOngz2"
      }
    },
    {
      "cell_type": "markdown",
      "source": [
        "To describe the variables listed in your dataset:\n",
        "\n",
        "1.**eventid**: identifier for each terrorist event.\n",
        "\n",
        "2.**Year**: Year when the terrorist event occurred.\n",
        "\n",
        "3.**Month**: Month when the terrorist event occurred.\n",
        "\n",
        "4.**Day**: Day of the month when the terrorist event occurred.\n",
        "\n",
        "5.**Country**: Country where the terrorist event took place.\n",
        "\n",
        "6.**Region_code**: Code representing the region where the country belongs.\n",
        "\n",
        "7.**Region**: Name of the region where the country belongs.\n",
        "\n",
        "8.**city**: City or location within the country where the terrorist event occurred.\n",
        "\n",
        "9.**Success_rate**: Success rate of the terrorist attack (could be binary: successful or unsuccessful).\n",
        "\n",
        "10.**Type of Attacks**: Type of terrorist attack (e.g., bombing/explosion, armed assault, assassination).\n",
        "\n",
        "11.**Targrt Type**: Type of target of the terrorist attack (e.g., civilians, military, government).\n",
        "\n",
        "12.**Targets Nationality**: Nationality of the target (if applicable).\n",
        "\n",
        "13.**Name of Group**: Name of the terrorist group responsible for the attack.\n",
        "\n",
        "14.**Type of Weapon**: Type of weapon or method used in the attack (e.g., firearms, explosives, biological)."
      ],
      "metadata": {
        "id": "aJV4KIxSnxay"
      }
    },
    {
      "cell_type": "markdown",
      "source": [
        "### Check Unique Values for each variable."
      ],
      "metadata": {
        "id": "u3PMJOP6ngxN"
      }
    },
    {
      "cell_type": "code",
      "source": [
        "# Check Unique Values for each variable.\n",
        "for i in df.columns.tolist():\n",
        "  print(\"No. of unique values in \",i,\"is\",df[i].nunique(),\".\")"
      ],
      "metadata": {
        "id": "zms12Yq5n-jE"
      },
      "execution_count": null,
      "outputs": []
    },
    {
      "cell_type": "markdown",
      "source": [
        "## 3. ***Data Wrangling***"
      ],
      "metadata": {
        "id": "dauF4eBmngu3"
      }
    },
    {
      "cell_type": "markdown",
      "source": [
        "### Data Wrangling Code"
      ],
      "metadata": {
        "id": "bKJF3rekwFvQ"
      }
    },
    {
      "cell_type": "code",
      "source": [
        "# Write your code to make your dataset analysis ready.\n",
        "# Create a copy of the current dataset and assigning to df\n",
        "dataset=df.copy()"
      ],
      "metadata": {
        "id": "wk-9a2fpoLcV"
      },
      "execution_count": null,
      "outputs": []
    },
    {
      "cell_type": "code",
      "source": [
        "# Print the country with the highest number of terrorist attacks\n",
        "print('Country with Highest Terrorist Attacks:', dataset['Country'].value_counts().idxmax())\n",
        "\n",
        "# Print the region with the highest number of terrorist attacks\n",
        "print('Region with Highest Terrorist Attacks:', dataset['Region'].value_counts().idxmax())\n",
        "\n",
        "# Print the year with the highest number of terrorist attacks\n",
        "print('Year with Highest Terrorist Attacks:', dataset['Year'].value_counts().idxmax())\n",
        "\n",
        "# Print the month with the highest number of terrorist attacks\n",
        "print('Month with Highest Terrorist Attacks:', dataset['Month'].value_counts().idxmax())\n",
        "\n",
        "# Print the day with the highest number of terrorist attacks\n",
        "print('Day with Highest Terrorist Attacks:', dataset['Day'].value_counts().idxmax())\n",
        "\n",
        "# Print the type of attack that occurred most frequently\n",
        "print('Type of Attack with Highest Terrorist Attacks:', dataset['Type of Attacks'].value_counts().idxmax())\n",
        "\n",
        "# Print the name of the group responsible for the highest number of terrorist attacks\n",
        "print('Name of Group with Highest Terrorist Attacks:', dataset['Name of Group'].value_counts().idxmax())\n",
        "\n",
        "# Print the type of weapon used most frequently in terrorist attacks\n",
        "print('Type of Weapon with Highest Terrorist Attacks:', dataset['Type of Weapon'].value_counts().idxmax())\n"
      ],
      "metadata": {
        "id": "C683LzpJnkJ7"
      },
      "execution_count": null,
      "outputs": []
    },
    {
      "cell_type": "code",
      "source": [
        "# Generate and display histograms for all numeric columns in the dataset\n",
        "dataset.hist(figsize=(20, 15))\n",
        "plt.show()\n"
      ],
      "metadata": {
        "id": "BvRjLBW78-jM"
      },
      "execution_count": null,
      "outputs": []
    },
    {
      "cell_type": "markdown",
      "source": [
        "Terrorist Attacks Count by Year"
      ],
      "metadata": {
        "id": "Zys_LadjZKKh"
      }
    },
    {
      "cell_type": "code",
      "source": [
        "# Group the dataset by 'Year' and count the number of attacks (using 'eventid') for each year\n",
        "attacks_per_year = df.groupby('Year')['eventid'].count().reset_index(name='Total Attacks')\n",
        "\n",
        "# Print the resulting DataFrame\n",
        "print(attacks_per_year)\n"
      ],
      "metadata": {
        "id": "63RyV-LVQy0R"
      },
      "execution_count": null,
      "outputs": []
    },
    {
      "cell_type": "markdown",
      "source": [
        "Insights on Maximum and Minimum Attacks by Year"
      ],
      "metadata": {
        "id": "aZN2ejT8Zc-a"
      }
    },
    {
      "cell_type": "code",
      "source": [
        "# Find the maximum number of attacks in any year\n",
        "most_attacks_year = attacks_per_year['Total Attacks'].max()\n",
        "\n",
        "# Find the minimum number of attacks in any year\n",
        "least_attacks_year = attacks_per_year['Total Attacks'].min()\n",
        "\n",
        "# Get the data for the year(s) with the most attacks\n",
        "most_attacks_year_data = attacks_per_year[attacks_per_year['Total Attacks'] == most_attacks_year]\n",
        "\n",
        "# Get the data for the year(s) with the least attacks\n",
        "least_attacks_year_data = attacks_per_year[attacks_per_year['Total Attacks'] == least_attacks_year]\n",
        "\n",
        "# Print the year with the most attacks and the total number of attacks in that year\n",
        "print(\"Year with most attacks:\", most_attacks_year_data['Year'].values[0], \" & Total attacks are:\", most_attacks_year)\n",
        "\n",
        "# Print the year with the least attacks and the total number of attacks in that year\n",
        "print(\"Year with least attacks:\", least_attacks_year_data['Year'].values[0], \" & Total attacks are:\", least_attacks_year)\n"
      ],
      "metadata": {
        "id": "VI-6O6psSLEl"
      },
      "execution_count": null,
      "outputs": []
    },
    {
      "cell_type": "markdown",
      "source": [
        "Insights on Maximum and Minimum Attacks by Region"
      ],
      "metadata": {
        "id": "aD-UPzE2ZjVH"
      }
    },
    {
      "cell_type": "code",
      "source": [
        "# Group the dataset by 'Region' and count the number of attacks (using 'eventid') for each region\n",
        "attacks_per_region = df.groupby('Region')['eventid'].count().reset_index(name='Total Attacks')\n",
        "\n",
        "# Print the resulting DataFrame\n",
        "print(attacks_per_region)\n",
        "\n",
        "# Find the maximum number of attacks in any region\n",
        "most_attacks_region = attacks_per_region['Total Attacks'].max()\n",
        "\n",
        "# Find the minimum number of attacks in any region\n",
        "least_attacks_region = attacks_per_region['Total Attacks'].min()\n",
        "\n",
        "# Get the data for the region(s) with the most attacks\n",
        "most_attacks_region_data = attacks_per_region[attacks_per_region['Total Attacks'] == most_attacks_region]\n",
        "\n",
        "# Get the data for the region(s) with the least attacks\n",
        "least_attacks_region_data = attacks_per_region[attacks_per_region['Total Attacks'] == least_attacks_region]\n",
        "\n",
        "# Print the region with the most attacks and the total number of attacks in that region\n",
        "print(\"Region with most attacks:\", most_attacks_region_data['Region'].values[0], \" & Total attacks are:\", most_attacks_region)\n",
        "\n",
        "# Print the region with the least attacks and the total number of attacks in that region\n",
        "print(\"Region with least attacks:\", least_attacks_region_data['Region'].values[0], \" & Total attacks are:\", least_attacks_region)\n"
      ],
      "metadata": {
        "id": "QwcnpShp6OQO"
      },
      "execution_count": null,
      "outputs": []
    },
    {
      "cell_type": "markdown",
      "source": [
        "Insights on Maximum and Minimum Attacks by Country\n"
      ],
      "metadata": {
        "id": "JEVHd0bNZ8aj"
      }
    },
    {
      "cell_type": "code",
      "source": [
        "# Find the country with the most attacks\n",
        "most_attacks_country = df['Country'].value_counts().idxmax()\n",
        "\n",
        "# Find the country with the least attacks\n",
        "least_attacks_country = df['Country'].value_counts().idxmin()\n",
        "\n",
        "# Print the country with the most attacks and the total number of attacks\n",
        "print(\"Country with most attacks:\", most_attacks_country, \" & Total attacks are:\", df[df['Country'] == most_attacks_country].shape[0])\n",
        "\n",
        "# Print the country with the least attacks and the total number of attacks\n",
        "print(\"Country with least attacks:\", least_attacks_country, \" & Total attacks are:\", df[df['Country'] == least_attacks_country].shape[0])\n"
      ],
      "metadata": {
        "id": "9HplA3y68J2v"
      },
      "execution_count": null,
      "outputs": []
    },
    {
      "cell_type": "markdown",
      "source": [
        "Insights on Maximum and Minimum Attacks by City"
      ],
      "metadata": {
        "id": "JDsVJdq1avSS"
      }
    },
    {
      "cell_type": "code",
      "source": [
        "\n",
        "# Find the city with the most attacks\n",
        "most_attacks_city = df['city'].value_counts().idxmax()\n",
        "\n",
        "# Find the city with the least attacks\n",
        "least_attacks_city = df['city'].value_counts().idxmin()\n",
        "\n",
        "# Print the city with the most attacks and the total number of attacks\n",
        "print(\"City with most attacks:\", most_attacks_city, \" & Total attacks are:\", df[df['city'] == most_attacks_city].shape[0])\n",
        "\n",
        "# Print the city with the least attacks and the total number of attacks\n",
        "print(\"City with least attacks:\", least_attacks_city, \" & Total attacks are:\", df[df['city'] == least_attacks_city].shape[0])\n"
      ],
      "metadata": {
        "id": "u8c7JVoO_qjk"
      },
      "execution_count": null,
      "outputs": []
    },
    {
      "cell_type": "markdown",
      "source": [
        "\n",
        "Cross-tabulation of Terrorist Attacks by Year and Region"
      ],
      "metadata": {
        "id": "RjjUXUh9bZyL"
      }
    },
    {
      "cell_type": "code",
      "source": [
        "# Create a cross-tabulation table showing the number of attacks per region for each year\n",
        "reg = pd.crosstab(df['Year'], df['Region'])\n",
        "\n",
        "# Display the resulting table\n",
        "reg\n"
      ],
      "metadata": {
        "id": "k6O69kJPUOWI"
      },
      "execution_count": null,
      "outputs": []
    },
    {
      "cell_type": "code",
      "source": [
        "# Plot the cross-tabulation table as an area plot\n",
        "reg.plot(kind='area', stacked=False, alpha=0.5, figsize=(20, 10))\n",
        "\n",
        "# Set the title of the plot\n",
        "plt.title('Terrorist Activities By Region In Each Year', fontsize=20)\n",
        "\n",
        "# Set the label for the y-axis\n",
        "plt.ylabel('Number of Attacks', fontsize=20)\n",
        "\n",
        "# Set the label for the x-axis\n",
        "plt.xlabel('Years', fontsize=20)\n",
        "\n",
        "# Display the plot\n",
        "plt.show()\n"
      ],
      "metadata": {
        "id": "0Yo3cDUHY0BL"
      },
      "execution_count": null,
      "outputs": []
    },
    {
      "cell_type": "markdown",
      "source": [
        "\n",
        "Total Terrorist Attacks by Region"
      ],
      "metadata": {
        "id": "XfymhIOIeRSa"
      }
    },
    {
      "cell_type": "code",
      "source": [
        "# Group the  data by 'Region' and count the number of attacks (using 'eventid') for each region\n",
        "attacks_by_region = dataset.groupby('Region')['eventid'].count().reset_index(name='Total Attacks')\n",
        "\n",
        "# Print the resulting DataFrame\n",
        "print(attacks_by_region)\n",
        "\n"
      ],
      "metadata": {
        "id": "mDIeYbXNaLLG"
      },
      "execution_count": null,
      "outputs": []
    },
    {
      "cell_type": "code",
      "source": [
        "# Create a bar plot for total terrorist attacks in each region from 1970 to 1986\n",
        "plt.bar(attacks_by_region['Region'], attacks_by_region['Total Attacks'])\n",
        "\n",
        "# Rotate the x-axis labels for better readability\n",
        "plt.xticks(rotation=90)\n",
        "\n",
        "# Set the label for the x-axis\n",
        "plt.xlabel('Region')\n",
        "\n",
        "# Set the label for the y-axis\n",
        "plt.ylabel('Total Attacks')\n",
        "\n",
        "# Set the title of the plot\n",
        "plt.title('Total Terrorist Attacks in Each Region from 1970 to 1986')\n",
        "\n",
        "# Display the plot\n",
        "plt.show()\n",
        "\n"
      ],
      "metadata": {
        "id": "-IWqhhF3a-xK"
      },
      "execution_count": null,
      "outputs": []
    },
    {
      "cell_type": "code",
      "source": [
        "# Number of Attacks in each country\n",
        "ct=df['Country'].value_counts().head(10)\n",
        "ct\n"
      ],
      "metadata": {
        "id": "tC0UUF6ybxsi"
      },
      "execution_count": null,
      "outputs": []
    },
    {
      "cell_type": "code",
      "source": [
        "# Number of attacks in each city\n",
        "City=df['city'].value_counts().head(10)\n",
        "City"
      ],
      "metadata": {
        "id": "rFVvux0tcSge"
      },
      "execution_count": null,
      "outputs": []
    },
    {
      "cell_type": "markdown",
      "source": [
        "NO. of Attacks by each Terrorist Group"
      ],
      "metadata": {
        "id": "8-yQkJ56efWr"
      }
    },
    {
      "cell_type": "code",
      "source": [
        "# Number of Attacks by each group\n",
        "grp=df['Name of Group'].value_counts().head(10)\n",
        "grp"
      ],
      "metadata": {
        "id": "lGtgd4b5dAhp"
      },
      "execution_count": null,
      "outputs": []
    },
    {
      "cell_type": "markdown",
      "source": [
        "\n",
        "Top 10 Most Frequent Target Types in Terrorist Attacks"
      ],
      "metadata": {
        "id": "qzbfniBSezYO"
      }
    },
    {
      "cell_type": "code",
      "source": [
        "# Count the number of attacks for each target type and select the top 10 most frequent target types\n",
        "\n",
        "Target=df['Targrt Type'].value_counts().head(10)\n",
        "Target"
      ],
      "metadata": {
        "id": "yEqSruvTu52p"
      },
      "execution_count": null,
      "outputs": []
    },
    {
      "cell_type": "markdown",
      "source": [
        "\n",
        "Top 10 Terrorist Groups by Country Excluding \"Unknown\""
      ],
      "metadata": {
        "id": "pmX982rSfqUn"
      }
    },
    {
      "cell_type": "code",
      "source": [
        "# Count the occurrences of each 'Name of Group' and 'Country' combination\n",
        "# and sort them in descending order, excluding the \"Unknown\" group\n",
        "gca = dataset[['Name of Group', 'Country']].value_counts().drop('Unknown').head(10)\n",
        "\n",
        "# Display the result\n",
        "gca\n"
      ],
      "metadata": {
        "id": "-G84i7vHeHnO"
      },
      "execution_count": null,
      "outputs": []
    },
    {
      "cell_type": "markdown",
      "source": [
        "Correlation Matrix of Numerical Variables"
      ],
      "metadata": {
        "id": "jbx3QFkjgJTy"
      }
    },
    {
      "cell_type": "code",
      "source": [
        "# Select numerical columns for correlation analysis\n",
        "numerical_columns = ['Year', 'Month', 'Day', 'Success_rate']\n",
        "\n",
        "# Compute the correlation matrix\n",
        "correlation_matrix = dataset[numerical_columns].corr()\n",
        "\n",
        "# Display the correlation matrix\n",
        "print(correlation_matrix)\n",
        "\n",
        "# Create a heatmap to visualize the correlation matrix\n",
        "sns.set(font_scale=1.4)\n",
        "plt.figure(figsize=(10, 8))\n",
        "sns.heatmap(correlation_matrix, annot=True, cmap=\"coolwarm\", fmt=\".2f\", square=True)\n",
        "plt.title(\"Correlation Matrix of Numerical Variables\")\n",
        "plt.show()\n",
        "\n"
      ],
      "metadata": {
        "id": "rxlnO8ooAAsB"
      },
      "execution_count": null,
      "outputs": []
    },
    {
      "cell_type": "code",
      "source": [
        "# Create a DataFrame with country names and attack counts\n",
        "data = dataset.groupby(['Country'],as_index=False).count()\n"
      ],
      "metadata": {
        "id": "T4DpeOFSHh0F"
      },
      "execution_count": null,
      "outputs": []
    },
    {
      "cell_type": "code",
      "source": [
        "import plotly.express as px\n",
        "\n",
        "# Create a choropleth map using Plotly Express\n",
        "fig = px.choropleth(\n",
        "    data,                           # DataFrame containing the data to be plotted\n",
        "    locations='Country',            # Column specifying the country names\n",
        "    locationmode='country names',   # Using country names for the location mode\n",
        "    color='Year',                   # Column to determine the color intensity (should represent a numerical value)\n",
        "    hover_name='Country',           # Column to display when hovering over a country\n",
        "    projection='orthographic',      # Type of map projection\n",
        "    title='Total number of attacks(1970-1986)',\n",
        "    labels={'Year': 'Number of Attacks'}\n",
        "\n",
        ")\n",
        "\n",
        "# Display the choropleth map\n",
        "fig.show()\n"
      ],
      "metadata": {
        "id": "3Ai7vQO0Jg_1"
      },
      "execution_count": null,
      "outputs": []
    },
    {
      "cell_type": "markdown",
      "source": [
        "Visualization of Top 10 Most Common Attack Types\n",
        "\n",
        "\n",
        "\n",
        "\n",
        "\n"
      ],
      "metadata": {
        "id": "Fvbs_MKmhYM8"
      }
    },
    {
      "cell_type": "code",
      "source": [
        "# Count the occurrences of each type of attack\n",
        "attack_types = df['Type of Attacks'].value_counts()\n",
        "\n",
        "# Select the top 10 most common attack types\n",
        "top_10_attacks = attack_types.head(10)\n",
        "\n",
        "# Create a bar chart to visualize the most common attack types\n",
        "plt.figure(figsize=(10, 6))\n",
        "sns.barplot(x=top_10_attacks.values, y=top_10_attacks.index, palette='Set2')\n",
        "\n",
        "# Add title and labels\n",
        "plt.title('Most Common Attack Types')\n",
        "plt.xlabel('Number of Attacks')\n",
        "plt.ylabel('Attack Type')\n",
        "\n",
        "# Rotate x-axis labels for better readability\n",
        "plt.xticks(rotation=90)\n",
        "\n",
        "# Show the plot\n",
        "plt.show()\n"
      ],
      "metadata": {
        "id": "1xFLfCER0OlQ"
      },
      "execution_count": null,
      "outputs": []
    },
    {
      "cell_type": "markdown",
      "source": [
        "### What all manipulations have you done and insights you found?"
      ],
      "metadata": {
        "id": "MSa1f5Uengrz"
      }
    },
    {
      "cell_type": "markdown",
      "source": [
        "\n",
        "\n",
        "manipulations and insights derived from data are:\n",
        "*   Following data consists of terrorist attacks that span from **1970 to 1986**\n",
        "*   Year wise Attacks:\n",
        "\n",
        "\n",
        "\n",
        "\n",
        "\n",
        "    (a)Most number of attacks: 2362 in 1981\n",
        "    (b)Least number of attacks: 1 in 1986\n",
        "*   Region wise attacks:\n",
        "\n",
        "\n",
        "\n",
        "    (a)Most number of attacks:  5190 in Western Europe\n",
        "    (b)Least number of attacks: 22 in Australasia & Oceania\n",
        "*   Country wise attacks:\n",
        "\n",
        "\n",
        "\n",
        "\n",
        "    (a)Most number of attacks:  1791 in United Kingdom\n",
        "    (b)Least number of attacks: 1 in Soviet Union\n",
        "* City wise attacks:\n",
        "\n",
        "\n",
        "\n",
        "\n",
        "    (a)Most number of attacks: 849 in Belfast\n",
        "    (b)Least number of attacks: 1 in Beit Lif\n",
        "*  Country with Highest Terrorist Attacks:   United Kingdom\n",
        "*  Region with Highest Terrorist Attacks:   Western Europe\n",
        "*  Year with Highest Terrorist Attacks:  1981\n",
        "*  Month with Highest Terrorist Attacks:  5\n",
        "*  Day with Highest Terrorist Attacks:  15\n",
        "* Type of Attack with Highest Terrorist Attacks:  Bombing/Explosion\n",
        "* Name of Group with Highest Terrorist Attacks:  Unknown\n",
        "* Type of Weapon with Highest Terrorist Attacks:  Explosives\n",
        "\n",
        "*   Most number of attacks **1056** by **Irish Republican Army (IRA)** in **United Kingdom**\n",
        "*   Target type wise Most number of attacks:  2828 over Business Area   \n",
        "\n",
        "\n",
        "\n",
        "\n",
        "\n",
        "\n",
        "\n",
        "\n",
        "\n",
        "\n",
        "\n",
        "\n",
        "\n",
        "\n",
        "\n",
        "\n",
        "\n",
        "\n",
        "\n",
        "\n"
      ],
      "metadata": {
        "id": "cmiYxBQRCfHo"
      }
    },
    {
      "cell_type": "markdown",
      "source": [
        "**Summary of Manipulations:**\n",
        "\n",
        "*  Aggregated and summarized attack data by year, region, country, city, attack type, responsible group, weapon type, and target type.\n",
        "* Identified extremes (most and least) in each category to understand where terrorism was most concentrated and least prevalent.\n",
        "*  Analyzed temporal, regional, and tactical trends to uncover patterns and insights into terrorist activities during the specified period.\n",
        "\n",
        "These manipulations and insights provide a comprehensive view of the terrorist landscape during 1970-1986, highlighting key areas for further analysis and potential strategies for counter-terrorism efforts."
      ],
      "metadata": {
        "id": "Pg9c5JAOMIRE"
      }
    },
    {
      "cell_type": "markdown",
      "source": [
        "## ***4. Data Vizualization, Storytelling & Experimenting with charts : Understand the relationships between variables***"
      ],
      "metadata": {
        "id": "GF8Ens_Soomf"
      }
    },
    {
      "cell_type": "markdown",
      "source": [
        "#### Chart 1 - Terrorist Attacks by Region: Most to Least Affected"
      ],
      "metadata": {
        "id": "0wOQAZs5pc--"
      }
    },
    {
      "cell_type": "code",
      "source": [
        "# which aregion are most to least affected by terrorism\n",
        "region_attacks = dataset.groupby('Region')['eventid'].count().sort_values(ascending=False)\n",
        "plt.figure(figsize=(12,6))\n",
        "sns.barplot(x=region_attacks.index, y=region_attacks.values, palette='viridis')\n",
        "plt.title('Number of Terrorist Attacks by Region')\n",
        "plt.xlabel('Region')\n",
        "plt.ylabel('Number of Attacks')\n",
        "plt.xticks(rotation=45, ha='right')\n",
        "plt.tight_layout()\n",
        "plt.show()\n"
      ],
      "metadata": {
        "id": "EmyMB-j2l57R"
      },
      "execution_count": null,
      "outputs": []
    },
    {
      "cell_type": "markdown",
      "source": [
        "##### 1. Why did you pick the specific chart?"
      ],
      "metadata": {
        "id": "K5QZ13OEpz2H"
      }
    },
    {
      "cell_type": "markdown",
      "source": [
        "The bar chart is chosen because it is an effective way to compare the number of terrorist attacks across different regions. Bar charts are particularly useful for visualizing categorical data and making it easy to see which categories (in this case, regions) have higher or lower values (number of attacks)."
      ],
      "metadata": {
        "id": "XESiWehPqBRc"
      }
    },
    {
      "cell_type": "markdown",
      "source": [
        "##### 2. What is/are the insight(s) found from the chart?"
      ],
      "metadata": {
        "id": "lQ7QKXXCp7Bj"
      }
    },
    {
      "cell_type": "markdown",
      "source": [
        "From the bar chart, we can quickly identify:\n",
        "*   Western Europe is the most affected region by terrorism, as it has the highest number of attacks.\n",
        "*   Australasia & Oceania is the least affected region by terrorism, as it has the lowest number of attacks.\n",
        "\n",
        "* The relative difference in the number of attacks between the most affected (Western Europe) and least affected (Australasia & Oceania) regions.  \n",
        "*  \n",
        "The overall distribution of terrorist attacks across different regions, highlighting whether terrorism is concentrated in a few regions or spread out more evenly.\n",
        "\n",
        "\n",
        "\n"
      ],
      "metadata": {
        "id": "C_j1G7yiqdRP"
      }
    },
    {
      "cell_type": "markdown",
      "source": [
        "##### 3. Will the gained insights help creating a positive business impact?\n",
        "Are there any insights that lead to negative growth? Justify with specific reason."
      ],
      "metadata": {
        "id": "448CDAPjqfQr"
      }
    },
    {
      "cell_type": "markdown",
      "source": [
        "Yes, the insights from this chart can help create a positive business impact in several ways:\n",
        "\n",
        "**Security and Risk Management:** Businesses operating in or considering expansion to different regions can use this information to assess security risks and implement appropriate measures to protect their assets and employees, especially if they are in Western Europe.\n",
        "\n",
        "**Insurance and Premium Calculation:** Insurance companies can use this data to better assess the risk of terrorism in different regions and adjust their premiums accordingly, possibly offering lower premiums in regions like Australasia & Oceania.\n",
        "\n",
        "**Policy and Strategic Planning:** Government agencies and NGOs can use these insights to allocate resources more effectively, focusing on regions like Western Europe that are most affected by terrorism.\n",
        "\n",
        "**Investor Confidence:** Businesses with operations in regions less affected by terrorism, such as Australasia & Oceania, can highlight this as a positive factor to attract investors, demonstrating a lower risk environment."
      ],
      "metadata": {
        "id": "3cspy4FjqxJW"
      }
    },
    {
      "cell_type": "markdown",
      "source": [
        "#### Chart 2 - Number of attacks by year"
      ],
      "metadata": {
        "id": "KSlN3yHqYklG"
      }
    },
    {
      "cell_type": "code",
      "source": [
        "# number of attacks by year\n",
        "plt.figure(figsize=(12, 6))\n",
        "sns.countplot(x='Year', data=dataset, palette='viridis')\n",
        "plt.title('Number of Terrorist Attacks by Year')\n",
        "plt.xlabel('Year')\n",
        "plt.ylabel('Number of Attacks')\n",
        "plt.xticks(rotation=45, ha='right')\n",
        "plt.tight_layout()\n",
        "plt.show()\n"
      ],
      "metadata": {
        "id": "xzLswmvdu2TE"
      },
      "execution_count": null,
      "outputs": []
    },
    {
      "cell_type": "markdown",
      "source": [
        "##### 1. Why did you pick the specific chart?"
      ],
      "metadata": {
        "id": "t6dVpIINYklI"
      }
    },
    {
      "cell_type": "markdown",
      "source": [
        "The count plot is chosen because it effectively visualizes the distribution of terrorist attacks over the years. It provides a clear view of the frequency of attacks each year, making it easy to identify trends and patterns over time."
      ],
      "metadata": {
        "id": "5aaW0BYyYklI"
      }
    },
    {
      "cell_type": "markdown",
      "source": [
        "##### 2. What is/are the insight(s) found from the chart?"
      ],
      "metadata": {
        "id": "ijmpgYnKYklI"
      }
    },
    {
      "cell_type": "markdown",
      "source": [
        "The chart reveals that the number of terrorist attacks varies significantly year by year. Notably, 1979, 1980, and 1981 experienced the highest numbers of attacks. This information is useful for identifying peak periods of terrorist activity and understanding historical trends."
      ],
      "metadata": {
        "id": "PSx9atu2YklI"
      }
    },
    {
      "cell_type": "markdown",
      "source": [
        "##### 3. Will the gained insights help creating a positive business impact?\n",
        "Are there any insights that lead to negative growth? Justify with specific reason."
      ],
      "metadata": {
        "id": "-JiQyfWJYklI"
      }
    },
    {
      "cell_type": "markdown",
      "source": [
        "Yes, these insights can help create a positive business impact. By understanding the historical trends of terrorist attacks, businesses can make informed decisions about security investments, risk management, and strategic planning. It can also help governments and organizations allocate resources more effectively to areas and times of higher risk."
      ],
      "metadata": {
        "id": "BcBbebzrYklV"
      }
    },
    {
      "cell_type": "markdown",
      "source": [
        "#### Chart - 3 Heatmap of Terrorist Attacks by Region and Year"
      ],
      "metadata": {
        "id": "EM7whBJCYoAo"
      }
    },
    {
      "cell_type": "code",
      "source": [
        " # terrorist attacks by region and year\n",
        "\n",
        "# Create a pivot table to aggregate attack counts by region and year\n",
        "region_year_attacks = dataset.pivot_table(index='Region', columns='Year', values='eventid', aggfunc='count', fill_value=0)\n",
        "\n",
        "# Create a heatmap to visualize the data\n",
        "plt.figure(figsize=(12, 8))\n",
        "sns.heatmap(region_year_attacks, cmap='viridis', annot=True, fmt='d')\n",
        "plt.title('Number of Terrorist Attacks by Region and Year')\n",
        "plt.xlabel('Year')\n",
        "plt.ylabel('Region')\n",
        "plt.show()\n"
      ],
      "metadata": {
        "id": "t6GMdE67YoAp"
      },
      "execution_count": null,
      "outputs": []
    },
    {
      "cell_type": "markdown",
      "source": [
        "##### 1. Why did you pick the specific chart?"
      ],
      "metadata": {
        "id": "fge-S5ZAYoAp"
      }
    },
    {
      "cell_type": "markdown",
      "source": [
        "The heatmap is chosen because it effectively visualizes the distribution and intensity of terrorist attacks across different regions and years. It allows for easy identification of patterns, trends, and outliers in the data, making it straightforward to compare the number of attacks across both dimensions simultaneously."
      ],
      "metadata": {
        "id": "5dBItgRVYoAp"
      }
    },
    {
      "cell_type": "markdown",
      "source": [
        "##### 2. What is/are the insight(s) found from the chart?"
      ],
      "metadata": {
        "id": "85gYPyotYoAp"
      }
    },
    {
      "cell_type": "markdown",
      "source": [
        "The chart reveals that certain regions, such as Western Europe, experienced higher numbers of terrorist attacks over multiple years. It also highlights specific years with particularly high activity in various regions. This visualization makes it clear which regions were most affected during specific time periods, providing a comprehensive view of the geographical and temporal distribution of terrorist attacks."
      ],
      "metadata": {
        "id": "4jstXR6OYoAp"
      }
    },
    {
      "cell_type": "markdown",
      "source": [
        "##### 3. Will the gained insights help creating a positive business impact?\n"
      ],
      "metadata": {
        "id": "RoGjAbkUYoAp"
      }
    },
    {
      "cell_type": "markdown",
      "source": [
        "Yes, these insights can help create a positive business impact. By understanding the regions and years most affected by terrorism, businesses can better plan their operations and risk management strategies. Companies can allocate resources more effectively, enhance security measures in high-risk areas, and develop contingency plans to mitigate potential disruptions. Additionally, this information can guide investment decisions and help businesses identify safer regions for expansion."
      ],
      "metadata": {
        "id": "zfJ8IqMcYoAp"
      }
    },
    {
      "cell_type": "markdown",
      "source": [
        "  ###### 4. Are there any insights that lead to negative growth? Justify with specific reason."
      ],
      "metadata": {
        "id": "fGX4mZjyj4qe"
      }
    },
    {
      "cell_type": "markdown",
      "source": [
        "Yes, the insights indicate that regions with high numbers of terrorist attacks may face negative growth. Frequent attacks can lead to increased security costs, reduced investor confidence, and disrupted business operations. In high-risk areas, tourism may decline, and local economies can suffer due to decreased consumer spending and heightened fear. These factors can collectively hinder economic growth and development, making it challenging for businesses to thrive in affected regions."
      ],
      "metadata": {
        "id": "OAb8kWGSkQHX"
      }
    },
    {
      "cell_type": "markdown",
      "source": [
        "#### Chart - 4. Top 10 Most Active Terrorist Groups by Number of Attacks"
      ],
      "metadata": {
        "id": "4Of9eVA-YrdM"
      }
    },
    {
      "cell_type": "code",
      "source": [
        "#  terrorist group by attack count exclude unknown\n",
        "\n",
        "# Count the occurrences of each 'Name of Group' excluding \"Unknown\"\n",
        "group_counts = dataset[dataset['Name of Group'] != 'Unknown']['Name of Group'].value_counts()\n",
        "\n",
        "# Select the top 10 most active groups\n",
        "top_10_groups = group_counts.head(10)\n",
        "\n",
        "# Create a bar chart to visualize the most active terrorist groups\n",
        "plt.figure(figsize=(12, 6))\n",
        "sns.barplot(x=top_10_groups.values, y=top_10_groups.index, palette='viridis')\n",
        "plt.title('Top 10 Most Active Terrorist Groups')\n",
        "plt.xlabel('Number of Attacks')\n",
        "plt.ylabel('Terrorist Group')\n",
        "plt.xticks(rotation=45, ha='right')\n",
        "plt.tight_layout()\n",
        "plt.show()\n"
      ],
      "metadata": {
        "id": "irlUoxc8YrdO"
      },
      "execution_count": null,
      "outputs": []
    },
    {
      "cell_type": "markdown",
      "source": [
        "##### 1. Why did you pick the specific chart?"
      ],
      "metadata": {
        "id": "iky9q4vBYrdO"
      }
    },
    {
      "cell_type": "markdown",
      "source": [
        "The bar chart is chosen because it clearly and effectively displays the number of attacks carried out by the top 10 most active terrorist groups. Bar charts are ideal for comparing categorical data and allow for easy visualization of the relative frequency of attacks among different groups."
      ],
      "metadata": {
        "id": "aJRCwT6DYrdO"
      }
    },
    {
      "cell_type": "markdown",
      "source": [
        "##### 2. What is/are the insight(s) found from the chart?"
      ],
      "metadata": {
        "id": "F6T5p64dYrdO"
      }
    },
    {
      "cell_type": "markdown",
      "source": [
        "The chart highlights the terrorist groups responsible for the highest number of attacks, excluding unknown groups. It reveals that certain groups, such as the Irish Republican Army (IRA) and the Basque Fatherland and Liberty (ETA), are among the most active. This information is crucial for understanding which groups have had the most significant impact on global security."
      ],
      "metadata": {
        "id": "Xx8WAJvtYrdO"
      }
    },
    {
      "cell_type": "markdown",
      "source": [
        "##### 3. Will the gained insights help creating a positive business impact?\n"
      ],
      "metadata": {
        "id": "y-Ehk30pYrdP"
      }
    },
    {
      "cell_type": "markdown",
      "source": [
        "Yes, these insights can help create a positive business impact. By identifying the most active terrorist groups, governments and security agencies can allocate resources more effectively to counteract these threats. Businesses can also use this information to assess the risk associated with operating in regions where these groups are active, enhancing their risk management and security strategies."
      ],
      "metadata": {
        "id": "m6ey6nlMoOJY"
      }
    },
    {
      "cell_type": "markdown",
      "source": [
        " #####  4. Are there any insights that lead to negative growth? Justify with specific reason."
      ],
      "metadata": {
        "id": "hVpDwzGKoTP8"
      }
    },
    {
      "cell_type": "markdown",
      "source": [
        "Yes, the insights indicate that regions affected by the activities of these highly active terrorist groups may experience negative growth. The presence of these groups can lead to increased security concerns, higher operational costs, and reduced investor confidence. Additionally, frequent attacks by these groups can disrupt local economies, deter tourism, and create an environment of fear, all of which contribute to negative economic growth."
      ],
      "metadata": {
        "id": "jLNxxz7MYrdP"
      }
    },
    {
      "cell_type": "markdown",
      "source": [
        "#### Chart - 5. Frequency of Terrorist Attacks by Day of the Month"
      ],
      "metadata": {
        "id": "bamQiAODYuh1"
      }
    },
    {
      "cell_type": "code",
      "source": [
        "# Chart - 5: Number of Attacks by Day of the Month\n",
        "# Count the number of attacks for each day of the month\n",
        "attacks_by_day = dataset['Day'].value_counts().sort_index()\n",
        "\n",
        "# Create a line plot to visualize the distribution of attacks by day\n",
        "plt.figure(figsize=(12, 6))\n",
        "sns.lineplot(x=attacks_by_day.index, y=attacks_by_day.values, marker='o')\n",
        "plt.title('Number of Terrorist Attacks by Day of the Month')\n",
        "plt.xlabel('Day of the Month')\n",
        "plt.ylabel('Number of Attacks')\n",
        "plt.grid(True)\n",
        "plt.show()\n",
        "\n"
      ],
      "metadata": {
        "id": "TIJwrbroYuh3"
      },
      "execution_count": null,
      "outputs": []
    },
    {
      "cell_type": "markdown",
      "source": [
        "##### 1. Why did you pick the specific chart?"
      ],
      "metadata": {
        "id": "QHF8YVU7Yuh3"
      }
    },
    {
      "cell_type": "markdown",
      "source": [
        "A line plot is chosen to visualize the trend of attacks over the days of the month. It effectively shows the fluctuation in attack frequency throughout the month, allowing for easy identification of days with higher or lower attack occurrences."
      ],
      "metadata": {
        "id": "dcxuIMRPYuh3"
      }
    },
    {
      "cell_type": "markdown",
      "source": [
        "##### 2. What is/are the insight(s) found from the chart?"
      ],
      "metadata": {
        "id": "GwzvFGzlYuh3"
      }
    },
    {
      "cell_type": "markdown",
      "source": [
        "The chart reveals a somewhat even distribution of attacks throughout the month, with no specific days showing significantly higher attack counts. This suggests that terrorist attacks are not particularly concentrated on specific days of the month.\n"
      ],
      "metadata": {
        "id": "uyqkiB8YYuh3"
      }
    },
    {
      "cell_type": "markdown",
      "source": [
        "##### 3. Will the gained insights help creating a positive business impact?\n",
        "Are there any insights that lead to negative growth? Justify with specific reason."
      ],
      "metadata": {
        "id": "qYpmQ266Yuh3"
      }
    },
    {
      "cell_type": "markdown",
      "source": [
        "**positive Business impact:**\n",
        "\n",
        "While the insights may not directly lead to a significant positive business impact, they can still be valuable for security planning and risk assessment. Businesses can use this information to understand that the risk of terrorist attacks remains relatively consistent throughout the month, requiring vigilance and security measures at all times.\n",
        "\n",
        "\n",
        "**Negative Business impact:**\n",
        "\n",
        "The lack of a clear pattern in attack days might lead to complacency, which could be detrimental. Businesses and security agencies should avoid assuming that certain days are safer and maintain consistent security protocols throughout the month.\n"
      ],
      "metadata": {
        "id": "_WtzZ_hCYuh4"
      }
    },
    {
      "cell_type": "markdown",
      "source": [
        "#### Chart - 6. Monthly and Yearly Trends in Terrorist Attacks: A Stacked Analysis"
      ],
      "metadata": {
        "id": "OH-pJp9IphqM"
      }
    },
    {
      "cell_type": "code",
      "source": [
        "# Group the data by year and month, and count the number of attacks\n",
        "attacks_by_month = dataset.groupby(['Year', 'Month'])['eventid'].count().reset_index(name='Number of Attacks')\n",
        "\n",
        "# Create a pivot table to reshape the data for stacked bar chart\n",
        "attacks_pivot = attacks_by_month.pivot(index='Year', columns='Month', values='Number of Attacks')\n",
        "\n",
        "# Plot the stacked bar chart\n",
        "attacks_pivot.plot(kind='bar', stacked=True, figsize=(12, 6))\n",
        "plt.title('Number of Terrorist Attacks by Month and Year')\n",
        "plt.xlabel('Year')\n",
        "plt.ylabel('Number of Attacks')\n",
        "plt.legend(title='Month', loc='upper left', bbox_to_anchor=(1.0, 1.0))\n",
        "plt.show()\n"
      ],
      "metadata": {
        "id": "kuRf4wtuphqN"
      },
      "execution_count": null,
      "outputs": []
    },
    {
      "cell_type": "markdown",
      "source": [
        "##### 1. Why did you pick the specific chart?"
      ],
      "metadata": {
        "id": "bbFf2-_FphqN"
      }
    },
    {
      "cell_type": "markdown",
      "source": [
        "The stacked bar chart is chosen because it provides a clear visualization of the distribution of terrorist attacks across different months for each year. This chart type is effective for comparing the total number of attacks over years while also showing the breakdown by month within each year, making it easy to identify seasonal trends and year-over-year changes in attack frequency."
      ],
      "metadata": {
        "id": "loh7H2nzphqN"
      }
    },
    {
      "cell_type": "markdown",
      "source": [
        "##### 2. What is/are the insight(s) found from the chart?"
      ],
      "metadata": {
        "id": "_ouA3fa0phqN"
      }
    },
    {
      "cell_type": "markdown",
      "source": [
        "The chart reveals the temporal distribution of terrorist attacks, highlighting both annual and monthly variations. It shows how the frequency of attacks fluctuates over different months and years, helping to identify peak periods and potential seasonal patterns in terrorist activities."
      ],
      "metadata": {
        "id": "VECbqPI7phqN"
      }
    },
    {
      "cell_type": "markdown",
      "source": [
        "##### 3. Will the gained insights help creating a positive business impact?\n",
        "Are there any insights that lead to negative growth? Justify with specific reason."
      ],
      "metadata": {
        "id": "Seke61FWphqN"
      }
    },
    {
      "cell_type": "markdown",
      "source": [
        "**positive Business impact:**\n",
        "\n",
        "Yes, these insights can help create a positive business impact. By understanding the seasonal and annual trends in terrorist attacks, security agencies, and businesses can better plan and allocate resources throughout the year. This proactive approach can enhance preparedness and response strategies, reducing the risk and impact of attacks during peak periods.\n",
        "\n",
        "**Negative Business impact:**\n",
        "\n",
        "Yes, there are potential insights that could lead to negative growth. Identifying specific months or years with high frequencies of attacks can create periods of heightened fear and insecurity, adversely affecting economic activities. Businesses may face disruptions, increased security costs, and reduced consumer confidence during these periods, leading to negative growth in affected regions."
      ],
      "metadata": {
        "id": "DW4_bGpfphqN"
      }
    },
    {
      "cell_type": "markdown",
      "source": [
        "#### Chart - 7. Count the number of attacks by country"
      ],
      "metadata": {
        "id": "PIIx-8_IphqN"
      }
    },
    {
      "cell_type": "code",
      "source": [
        "\n",
        "# Count the number of attacks by country\n",
        "country_attacks = dataset['Country'].value_counts().head(10)  # Selecting top 10 for better visualization\n",
        "\n",
        "# Create a pie chart\n",
        "plt.figure(figsize=(10, 10))\n",
        "plt.pie(country_attacks.values, labels=country_attacks.index, autopct='%1.1f%%', startangle=90)\n",
        "plt.title('Top 10 Countries Affected by Terrorist Attacks (1970-1986)')\n",
        "plt.show()\n"
      ],
      "metadata": {
        "id": "KuD-o9ZqZUer"
      },
      "execution_count": null,
      "outputs": []
    },
    {
      "cell_type": "markdown",
      "source": [
        "##### 1. Why did you pick the specific chart?"
      ],
      "metadata": {
        "id": "t27r6nlMphqO"
      }
    },
    {
      "cell_type": "markdown",
      "source": [
        "A pie chart is chosen because it effectively displays the proportion of terrorist attacks that occurred in each of the top 10 affected countries. It provides a clear visual representation of the relative distribution of attacks across these countries, making it easy to compare their contributions to the overall number of incidents.\n"
      ],
      "metadata": {
        "id": "iv6ro40sphqO"
      }
    },
    {
      "cell_type": "markdown",
      "source": [
        "##### 2. What is/are the insight(s) found from the chart?"
      ],
      "metadata": {
        "id": "r2jJGEOYphqO"
      }
    },
    {
      "cell_type": "markdown",
      "source": [
        "The pie chart reveals that a significant portion of terrorist attacks during this period were concentrated in a few countries. It highlights the countries that were most heavily targeted by terrorism, providing insights into the geographical distribution of these incidents.\n"
      ],
      "metadata": {
        "id": "Po6ZPi4hphqO"
      }
    },
    {
      "cell_type": "markdown",
      "source": [
        "##### 3. Will the gained insights help creating a positive business impact?\n",
        "Are there any insights that lead to negative growth? Justify with specific reason."
      ],
      "metadata": {
        "id": "b0JNsNcRphqO"
      }
    },
    {
      "cell_type": "markdown",
      "source": [
        "**positive Business impact:**\n",
        " - Risk Assessment and Mitigation: Businesses operating in or considering expansion to these countries can use this information to assess the security risks and implement appropriate measures to protect their assets and employees.\n",
        "\n",
        "- Targeted Security Investments: Security agencies and governments can allocate resources more effectively to counter terrorism efforts in the most affected countries.\n",
        "\n",
        "\n",
        "**Negative Business impact:**\n",
        "\n",
        "- Increased Security Costs: Businesses operating in high-risk countries may face increased security costs, potentially impacting their profitability and competitiveness.\n",
        "- Reduced Investment and Tourism: The perception of high terrorism risk can deter foreign investment and tourism, negatively impacting the economic growth of affected countries.\n"
      ],
      "metadata": {
        "id": "xvSq8iUTphqO"
      }
    },
    {
      "cell_type": "markdown",
      "source": [
        "#### Chart - 8. Success Rate Analysis of Terrorist Attacks by Type, Target, and Weapon"
      ],
      "metadata": {
        "id": "BZR9WyysphqO"
      }
    },
    {
      "cell_type": "code",
      "source": [
        "#  success rate by type of attacks , success rate by target type , success rate by weapon type\n",
        "\n",
        "# Success Rate by Type of Attack\n",
        "success_by_attacktype = dataset.groupby('Type of Attacks')['Success_rate'].mean().reset_index()\n",
        "\n",
        "# Create a donut chart\n",
        "fig = go.Figure(data=[go.Pie(labels=success_by_attacktype['Type of Attacks'],\n",
        "                             values=success_by_attacktype['Success_rate'],\n",
        "                             hole=.3)])\n",
        "fig.update_layout(title_text=\"Success Rate by Type of Attack\")\n",
        "fig.show()\n",
        "\n",
        "# Success Rate by Target Type\n",
        "success_by_targettype = dataset.groupby('Targrt Type')['Success_rate'].mean().reset_index()\n",
        "\n",
        "# Create a donut chart\n",
        "fig = go.Figure(data=[go.Pie(labels=success_by_targettype['Targrt Type'],\n",
        "                             values=success_by_targettype['Success_rate'],\n",
        "                             hole=.3)])\n",
        "fig.update_layout(title_text=\"Success Rate by Target Type\")\n",
        "fig.show()\n",
        "\n",
        "# Success Rate by Weapon Type\n",
        "success_by_weapontype = dataset.groupby('Type of Weapon')['Success_rate'].mean().reset_index()\n",
        "\n",
        "# Create a donut chart\n",
        "fig = go.Figure(data=[go.Pie(labels=success_by_weapontype['Type of Weapon'],\n",
        "                             values=success_by_weapontype['Success_rate'],\n",
        "                             hole=.3)])\n",
        "fig.update_layout(title_text=\"Success Rate by Weapon Type\")\n",
        "fig.show()\n"
      ],
      "metadata": {
        "id": "yErj1hQkaurz"
      },
      "execution_count": null,
      "outputs": []
    },
    {
      "cell_type": "markdown",
      "source": [
        "##### 1. Why did you pick the specific chart?"
      ],
      "metadata": {
        "id": "jj7wYXLtphqO"
      }
    },
    {
      "cell_type": "markdown",
      "source": [
        "I chose donut charts to display the success rates by attack type, target type, and weapon type because they provide a clear and visually appealing way to compare different categories. The circular format of a donut chart makes it easy to see the proportions of each category relative to the whole, and the central hole can be used to display additional information if needed."
      ],
      "metadata": {
        "id": "Ob8u6rCTphqO"
      }
    },
    {
      "cell_type": "markdown",
      "source": [
        "##### 2. What is/are the insight(s) found from the chart?"
      ],
      "metadata": {
        "id": "eZrbJ2SmphqO"
      }
    },
    {
      "cell_type": "markdown",
      "source": [
        "The insights from these charts include the relative success rates of different types of attacks, target types, and weapon types. By examining these charts, we can identify which attack methods, targets, and weapons have the highest and lowest success rates. This information is crucial for understanding the effectiveness of different strategies used by terrorist groups."
      ],
      "metadata": {
        "id": "mZtgC_hjphqO"
      }
    },
    {
      "cell_type": "markdown",
      "source": [
        "##### 3. Will the gained insights help creating a positive business impact?\n",
        "Are there any insights that lead to negative growth? Justify with specific reason."
      ],
      "metadata": {
        "id": "rFu4xreNphqO"
      }
    },
    {
      "cell_type": "markdown",
      "source": [
        "\n",
        "**positive Business impact:**\n",
        "\n",
        "Yes, these insights can help create a positive business impact. For policymakers and security agencies, understanding which types of attacks, targets, and weapons are more successful can aid in the development of more effective counter-terrorism strategies. By focusing resources on the most successful attack methods and mitigating their impact, security measures can be improved, potentially saving lives and reducing economic damage.\n",
        "\n",
        "**Negative Business impact:**\n",
        "\n",
        "While the insights themselves are neutral, they could lead to negative growth if misused. For example, if terrorist groups were to gain access to this information, they might focus their efforts on the more successful attack methods, potentially increasing the effectiveness of their attacks. However, with proper handling and exclusive use by security agencies, the insights should primarily contribute to positive outcomes."
      ],
      "metadata": {
        "id": "ey_0qi68phqO"
      }
    },
    {
      "cell_type": "markdown",
      "source": [
        "#### Chart - 9. Most Common Types of Terrorist Attacks"
      ],
      "metadata": {
        "id": "YJ55k-q6phqO"
      }
    },
    {
      "cell_type": "code",
      "source": [
        "# Count the occurrences of each attack type\n",
        "attack_type_counts = dataset['Type of Attacks'].value_counts()\n",
        "\n",
        "# Create a bar chart to visualize the distribution of attack types\n",
        "plt.figure(figsize=(12, 6))\n",
        "sns.barplot(x=attack_type_counts.index, y=attack_type_counts.values, palette='viridis')\n",
        "plt.title('Distribution of Terrorist Attacks by Type')\n",
        "plt.xlabel('Type of Attack')\n",
        "plt.ylabel('Number of Attacks')\n",
        "plt.xticks(rotation=45, ha='right')\n",
        "plt.tight_layout()\n",
        "plt.show()\n"
      ],
      "metadata": {
        "id": "B2aS4O1ophqO"
      },
      "execution_count": null,
      "outputs": []
    },
    {
      "cell_type": "markdown",
      "source": [
        "##### 1. Why did you pick the specific chart?"
      ],
      "metadata": {
        "id": "gCFgpxoyphqP"
      }
    },
    {
      "cell_type": "markdown",
      "source": [
        "I chose a bar chart to visualize the distribution of terrorist attacks by type because it provides a clear and straightforward way to compare the frequency of different attack types. Bar charts are effective for displaying categorical data and allow for easy comparison across categories."
      ],
      "metadata": {
        "id": "TVxDimi2phqP"
      }
    },
    {
      "cell_type": "markdown",
      "source": [
        "##### 2. What is/are the insight(s) found from the chart?"
      ],
      "metadata": {
        "id": "OVtJsKN_phqQ"
      }
    },
    {
      "cell_type": "markdown",
      "source": [
        "The insight from the chart is the relative frequency of different types of terrorist attacks. For instance, we can see which types of attacks are most common and which are less frequent. This information helps identify prevalent attack methods used by terrorist groups."
      ],
      "metadata": {
        "id": "ngGi97qjphqQ"
      }
    },
    {
      "cell_type": "markdown",
      "source": [
        "##### 3. Will the gained insights help creating a positive business impact?\n",
        "Are there any insights that lead to negative growth? Justify with specific reason."
      ],
      "metadata": {
        "id": "lssrdh5qphqQ"
      }
    },
    {
      "cell_type": "markdown",
      "source": [
        " The insights gained from this chart can help create a positive business impact. Security agencies and policymakers can use this information to prioritize resources and focus on preventing the most common types of attacks. By understanding the distribution of attack types, they can develop targeted strategies and improve public safety measures."
      ],
      "metadata": {
        "id": "tBpY5ekJphqQ"
      }
    },
    {
      "cell_type": "markdown",
      "source": [
        "#### Chart - 10. Distribution of Terrorist Attacks by Target Type"
      ],
      "metadata": {
        "id": "U2RJ9gkRphqQ"
      }
    },
    {
      "cell_type": "code",
      "source": [
        "# Count the occurrences of each target type\n",
        "target_type_counts = dataset['Targrt Type'].value_counts()\n",
        "\n",
        "# Create a bar chart to visualize the distribution of target types\n",
        "plt.figure(figsize=(12, 6))\n",
        "sns.barplot(x=target_type_counts.index, y=target_type_counts.values, palette='viridis')\n",
        "plt.title('Distribution of Terrorist Attacks by Target Type')\n",
        "plt.xlabel('Target Type')\n",
        "plt.ylabel('Number of Attacks')\n",
        "plt.xticks(rotation=45, ha='right')\n",
        "plt.tight_layout()\n",
        "plt.show()"
      ],
      "metadata": {
        "id": "GM7a4YP4phqQ"
      },
      "execution_count": null,
      "outputs": []
    },
    {
      "cell_type": "markdown",
      "source": [
        "##### 1. Why did you pick the specific chart?"
      ],
      "metadata": {
        "id": "1M8mcRywphqQ"
      }
    },
    {
      "cell_type": "markdown",
      "source": [
        "I chose a bar chart to visualize the distribution of target types because it effectively illustrates the frequency of attacks on different target types. Bar charts are ideal for comparing categorical data, making it easy to see which target types are most and least affected by terrorist attacks."
      ],
      "metadata": {
        "id": "8agQvks0phqQ"
      }
    },
    {
      "cell_type": "markdown",
      "source": [
        "##### 2. What is/are the insight(s) found from the chart?"
      ],
      "metadata": {
        "id": "tgIPom80phqQ"
      }
    },
    {
      "cell_type": "markdown",
      "source": [
        "The insight from the chart is the identification of the most and least targeted categories in terrorist attacks. This allows us to understand which sectors or groups are most frequently attacked, which can inform security measures and resource allocation."
      ],
      "metadata": {
        "id": "Qp13pnNzphqQ"
      }
    },
    {
      "cell_type": "markdown",
      "source": [
        "##### 3. Will the gained insights help creating a positive business impact?\n",
        "Are there any insights that lead to negative growth? Justify with specific reason."
      ],
      "metadata": {
        "id": "JMzcOPDDphqR"
      }
    },
    {
      "cell_type": "markdown",
      "source": [
        " the insights will help create a positive business impact. Organizations and government agencies can use this data to enhance security protocols and protect vulnerable targets. By understanding which target types are most frequently attacked, they can prioritize their efforts to mitigate risks and improve overall safety."
      ],
      "metadata": {
        "id": "R4Ka1PC2phqR"
      }
    },
    {
      "cell_type": "markdown",
      "source": [
        "#### Chart - 11. Top 5 Most Commonly Used Weapons in Terrorist Attacks"
      ],
      "metadata": {
        "id": "x-EpHcCOp1ci"
      }
    },
    {
      "cell_type": "code",
      "source": [
        "# Count the occurrences of each weapon type\n",
        "weapon_type_counts = dataset['Type of Weapon'].value_counts()\n",
        "\n",
        "# Select the top 5 most used weapon types\n",
        "top_5_weapons = weapon_type_counts.head(5)\n",
        "\n",
        "# Create a bar chart to visualize the top 5 most used weapon types\n",
        "plt.figure(figsize=(12, 6))\n",
        "sns.barplot(x=top_5_weapons.index, y=top_5_weapons.values, palette='viridis')\n",
        "plt.title('Top 5 Most Used Weapon Types in Terrorist Attacks')\n",
        "plt.xlabel('Weapon Type')\n",
        "plt.ylabel('Number of Attacks')\n",
        "plt.xticks(rotation=45, ha='right')\n",
        "plt.tight_layout()\n",
        "plt.show()\n"
      ],
      "metadata": {
        "id": "mAQTIvtqp1cj"
      },
      "execution_count": null,
      "outputs": []
    },
    {
      "cell_type": "markdown",
      "source": [
        "##### 1. Why did you pick the specific chart?"
      ],
      "metadata": {
        "id": "X_VqEhTip1ck"
      }
    },
    {
      "cell_type": "markdown",
      "source": [
        " A bar chart is chosen because it effectively displays the frequency of different weapon types used in terrorist attacks. The bars' heights directly correspond to the number of attacks, making it easy to compare the prevalence of each weapon type.\n"
      ],
      "metadata": {
        "id": "-vsMzt_np1ck"
      }
    },
    {
      "cell_type": "markdown",
      "source": [
        "##### 2. What is/are the insight(s) found from the chart?"
      ],
      "metadata": {
        "id": "8zGJKyg5p1ck"
      }
    },
    {
      "cell_type": "markdown",
      "source": [
        "The chart reveals the most commonly used weapons in terrorist attacks, providing insights into the tactics employed by these groups. This information can be used to develop countermeasures and security strategies that specifically address the most prevalent threats."
      ],
      "metadata": {
        "id": "ZYdMsrqVp1ck"
      }
    },
    {
      "cell_type": "markdown",
      "source": [
        "##### 3. Will the gained insights help creating a positive business impact?\n",
        "Are there any insights that lead to negative growth? Justify with specific reason."
      ],
      "metadata": {
        "id": "PVzmfK_Ep1ck"
      }
    },
    {
      "cell_type": "markdown",
      "source": [
        "\n",
        "**positive Business impact:**\n",
        "\n",
        "Yes, understanding the most commonly used weapon types can help businesses and governments make informed decisions about security investments. For example, if explosives are the most common weapon, businesses operating in high-risk areas might invest in blast-resistant infrastructure or enhanced security protocols to mitigate this specific threat.\n",
        "\n",
        " **Negative Business impact:**\n",
        "\n",
        " While the insights themselves don't directly lead to negative growth, they highlight the potential for negative impacts. The prevalence of certain weapon types indicates the destructive capacity of terrorist groups, which can deter investment, disrupt supply chains, and create instability in affected regions. This can indirectly contribute to negative economic growth.\n",
        "Answer Here"
      ],
      "metadata": {
        "id": "druuKYZpp1ck"
      }
    },
    {
      "cell_type": "markdown",
      "source": [
        "#### Chart - 12. Top 10 Cities Most Affected by Terrorist Attacks"
      ],
      "metadata": {
        "id": "n3dbpmDWp1ck"
      }
    },
    {
      "cell_type": "code",
      "source": [
        "# top 10 most affected city\n",
        "\n",
        "# Count the occurrences of attacks in each city\n",
        "city_attacks = dataset['city'].value_counts()\n",
        "\n",
        "# Select the top 10 most affected cities\n",
        "top_10_cities = city_attacks.head(10)\n",
        "\n",
        "# Create a bar chart to visualize the top 10 most affected cities\n",
        "plt.figure(figsize=(12, 6))\n",
        "sns.barplot(x=top_10_cities.index, y=top_10_cities.values, palette='viridis')\n",
        "plt.title('Top 10 Most Affected Cities by Terrorist Attacks')\n",
        "plt.xlabel('City')\n",
        "plt.ylabel('Number of Attacks')\n",
        "plt.xticks(rotation=45, ha='right')\n",
        "plt.tight_layout()\n",
        "plt.show()\n",
        "\n"
      ],
      "metadata": {
        "id": "bwevp1tKp1ck"
      },
      "execution_count": null,
      "outputs": []
    },
    {
      "cell_type": "markdown",
      "source": [
        "##### 1. Why did you pick the specific chart?"
      ],
      "metadata": {
        "id": "ylSl6qgtp1ck"
      }
    },
    {
      "cell_type": "markdown",
      "source": [
        "A bar chart is chosen because it effectively displays the number of attacks for each city, allowing for easy comparison between the most affected cities. The height of each bar directly corresponds to the number of attacks, making it simple to identify the cities with the highest frequency of terrorist incidents.\n"
      ],
      "metadata": {
        "id": "m2xqNkiQp1ck"
      }
    },
    {
      "cell_type": "markdown",
      "source": [
        "##### 2. What is/are the insight(s) found from the chart?"
      ],
      "metadata": {
        "id": "ZWILFDl5p1ck"
      }
    },
    {
      "cell_type": "markdown",
      "source": [
        "The chart reveals the cities that have been most frequently targeted by terrorist attacks, highlighting potential security vulnerabilities in these locations. This information can be used to allocate resources and implement security measures in the most vulnerable areas.\n"
      ],
      "metadata": {
        "id": "x-lUsV2mp1ck"
      }
    },
    {
      "cell_type": "markdown",
      "source": [
        "##### 3. Will the gained insights help creating a positive business impact?\n",
        "Are there any insights that lead to negative growth? Justify with specific reason."
      ],
      "metadata": {
        "id": "M7G43BXep1ck"
      }
    },
    {
      "cell_type": "markdown",
      "source": [
        "**Positive Business impact:**\n",
        "\n",
        "Yes, identifying the most affected cities can help businesses assess the risk associated with operating in those areas. Companies can then make informed decisions about security investments, insurance coverage, and contingency plans to mitigate potential disruptions.\n",
        "\n",
        " **Negative Business impact:**\n",
        "\n",
        " While the insights themselves don't directly lead to negative growth, they highlight the potential for negative impacts. Frequent terrorist attacks in a city can deter investment, disrupt business operations, and negatively affect tourism, all of which can contribute to economic decline.\n"
      ],
      "metadata": {
        "id": "5wwDJXsLp1cl"
      }
    },
    {
      "cell_type": "markdown",
      "source": [
        "#### Chart - 13. Yearly Distribution of Terrorist Attacks by Region"
      ],
      "metadata": {
        "id": "Ag9LCva-p1cl"
      }
    },
    {
      "cell_type": "code",
      "source": [
        "#check which region is affectsd by terrorisom in each year draw @interact\n",
        "\n",
        "import ipywidgets as widgets\n",
        "from IPython.display import display\n",
        "\n",
        "# Assuming 'dataset' is your DataFrame containing the terrorism data\n",
        "\n",
        "@widgets.interact(year=widgets.IntSlider(min=dataset['Year'].min(), max=dataset['Year'].max(), step=1, description='Year:'))\n",
        "def plot_region_attacks(year):\n",
        "  # Filter the dataset for the selected year\n",
        "  year_data = dataset[dataset['Year'] == year]\n",
        "\n",
        "  # Count the number of attacks in each region for the selected year\n",
        "  region_attacks = year_data['Region'].value_counts()\n",
        "\n",
        "  # Create a bar chart to visualize the number of attacks by region for the selected year\n",
        "  plt.figure(figsize=(12, 6))\n",
        "  sns.barplot(x=region_attacks.index, y=region_attacks.values, palette='viridis')\n",
        "  plt.title(f'Number of Terrorist Attacks by Region in {year}')\n",
        "  plt.xlabel('Region')\n",
        "  plt.ylabel('Number of Attacks')\n",
        "  plt.xticks(rotation=45, ha='right')\n",
        "  plt.tight_layout()\n",
        "  plt.show()\n"
      ],
      "metadata": {
        "id": "EUfxeq9-p1cl"
      },
      "execution_count": null,
      "outputs": []
    },
    {
      "cell_type": "markdown",
      "source": [
        "##### 1. Why did you pick the specific chart?"
      ],
      "metadata": {
        "id": "E6MkPsBcp1cl"
      }
    },
    {
      "cell_type": "markdown",
      "source": [
        "The bar chart is chosen because it effectively visualizes the number of terrorist attacks across different regions for a given year. It allows for clear comparison and easy identification of the most and least affected regions."
      ],
      "metadata": {
        "id": "V22bRsFWp1cl"
      }
    },
    {
      "cell_type": "markdown",
      "source": [
        "##### 2. What is/are the insight(s) found from the chart?"
      ],
      "metadata": {
        "id": "2cELzS2fp1cl"
      }
    },
    {
      "cell_type": "markdown",
      "source": [
        "Insights indicating regions with a high frequency of terrorist attacks could lead to negative growth by deterring investment, tourism, and economic activities in those areas. Businesses might avoid regions with high instability, impacting local economies. Furthermore, high attack frequencies can strain public resources and negatively affect the quality of life for residents."
      ],
      "metadata": {
        "id": "ozQPc2_Ip1cl"
      }
    },
    {
      "cell_type": "markdown",
      "source": [
        "##### 3. Will the gained insights help creating a positive business impact?\n",
        "Are there any insights that lead to negative growth? Justify with specific reason."
      ],
      "metadata": {
        "id": "3MPXvC8up1cl"
      }
    },
    {
      "cell_type": "markdown",
      "source": [
        "Yes, the gained insights can help create a positive business impact by informing security policies, resource allocation, and strategic planning. Governments and organizations can prioritize resources and preventive measures in regions with higher attack frequencies, improving overall safety and stability."
      ],
      "metadata": {
        "id": "GL8l1tdLp1cl"
      }
    },
    {
      "cell_type": "markdown",
      "source": [
        "#### Chart - 14. Top 10 Terrorist Groups and Their Most Used Weapons"
      ],
      "metadata": {
        "id": "NC_X3p0fY2L0"
      }
    },
    {
      "cell_type": "code",
      "source": [
        "# no of groups with most used weapons and draw visualizations top 10\n",
        "\n",
        "# Group the data by 'Name of Group' and 'Type of Weapon', and count the occurrences\n",
        "group_weapon_counts = dataset.groupby(['Name of Group', 'Type of Weapon'])['eventid'].count().reset_index(name='Count')\n",
        "\n",
        "# Sort the data by count in descending order\n",
        "group_weapon_counts = group_weapon_counts.sort_values('Count', ascending=False)\n",
        "\n",
        "# Select the top 10 groups with most used weapons\n",
        "top_10_groups_weapons = group_weapon_counts.head(10)\n",
        "\n",
        "# Create a bar chart to visualize the top 10 groups with most used weapons\n",
        "plt.figure(figsize=(12, 6))\n",
        "sns.barplot(x='Count', y='Name of Group', hue='Type of Weapon', data=top_10_groups_weapons, palette='viridis')\n",
        "plt.title('Top 10 Groups with Most Used Weapons')\n",
        "plt.xlabel('Number of Attacks')\n",
        "plt.ylabel('Terrorist Group')\n",
        "plt.legend(title='Weapon Type', loc='lower right')\n",
        "plt.tight_layout()\n",
        "plt.show()\n"
      ],
      "metadata": {
        "id": "xyC9zolEZNRQ"
      },
      "execution_count": null,
      "outputs": []
    },
    {
      "cell_type": "markdown",
      "source": [
        "##### 1. Why did you pick the specific chart?"
      ],
      "metadata": {
        "id": "UV0SzAkaZNRQ"
      }
    },
    {
      "cell_type": "markdown",
      "source": [
        "This specific chart is choosen to clearly visualize the relationship between terrorist groups and the types of weapons they use. The bar chart with hue differentiation allows for a detailed comparison, making it easy to identify which groups use certain weapons more frequently."
      ],
      "metadata": {
        "id": "DVPuT8LYZNRQ"
      }
    },
    {
      "cell_type": "markdown",
      "source": [
        "##### 2. What is/are the insight(s) found from the chart?"
      ],
      "metadata": {
        "id": "YPEH6qLeZNRQ"
      }
    },
    {
      "cell_type": "markdown",
      "source": [
        "The chart reveals which terrorist groups are most active and the types of weapons they predominantly use. This insight helps in understanding the operational patterns and preferences of different groups, highlighting potential areas for targeted interventions."
      ],
      "metadata": {
        "id": "bfSqtnDqZNRR"
      }
    },
    {
      "cell_type": "markdown",
      "source": [
        "#### Chart - 15. Success Rate of Terrorist Attacks by Country and Region"
      ],
      "metadata": {
        "id": "q29F0dvdveiT"
      }
    },
    {
      "cell_type": "code",
      "source": [
        "# success rate by country, success rate by region\n",
        "\n",
        "# Success Rate by Country\n",
        "success_by_country = dataset.groupby('Country')['Success_rate'].mean().reset_index()\n",
        "\n",
        "# Create a bar chart\n",
        "fig = px.bar(success_by_country, x='Country', y='Success_rate',\n",
        "             title='Success Rate of Terrorist Attacks by Country')\n",
        "fig.show()\n",
        "\n",
        "# Success Rate by Region\n",
        "success_by_region = dataset.groupby('Region')['Success_rate'].mean().reset_index()\n",
        "\n",
        "# Create a bar chart\n",
        "fig = px.bar(success_by_region, x='Region', y='Success_rate',\n",
        "             title='Success Rate of Terrorist Attacks by Region')\n",
        "fig.show()\n"
      ],
      "metadata": {
        "id": "o58-TEIhveiU"
      },
      "execution_count": null,
      "outputs": []
    },
    {
      "cell_type": "markdown",
      "source": [
        "##### 1. Why did you pick the specific chart?"
      ],
      "metadata": {
        "id": "EXh0U9oCveiU"
      }
    },
    {
      "cell_type": "markdown",
      "source": [
        "The bar charts is choosen to clearly display the success rates of terrorist attacks by country and region. Bar charts effectively illustrate the comparative success rates across multiple categories, making it easy to identify patterns and disparities."
      ],
      "metadata": {
        "id": "eMmPjTByveiU"
      }
    },
    {
      "cell_type": "markdown",
      "source": [
        "##### 2. What is/are the insight(s) found from the chart?"
      ],
      "metadata": {
        "id": "22aHeOlLveiV"
      }
    },
    {
      "cell_type": "markdown",
      "source": [
        "The charts reveal the countries and regions where terrorist attacks have the highest and lowest success rates. This information can pinpoint areas where terrorists are more or less effective in their operations, offering insights into local security measures' effectiveness and the need for targeted interventions."
      ],
      "metadata": {
        "id": "uPQ8RGwHveiV"
      }
    },
    {
      "cell_type": "markdown",
      "source": [
        "#### Chart - 16. Pairplot of Key Numerical Variables in Terrorism Dataset"
      ],
      "metadata": {
        "id": "PVHKsa5SJtJ0"
      }
    },
    {
      "cell_type": "code",
      "source": [
        " # pairplot\n",
        "\n",
        "# Select numerical columns for pairplot\n",
        "numerical_columns = ['Year', 'Month', 'Day',  'Success_rate']\n",
        "\n",
        "# Create a pairplot\n",
        "sns.pairplot(dataset[numerical_columns])\n",
        "plt.show()\n"
      ],
      "metadata": {
        "id": "FnQqDDHbG6HH"
      },
      "execution_count": null,
      "outputs": []
    },
    {
      "cell_type": "markdown",
      "source": [
        "Pair plot is used to understand the best set of features to explain a relationship between two variables or to form the most separated clusters. It also helps to form some simple classification models by drawing some simple lines or make linear separation in our data-set.\n",
        "\n",
        "Thus, I used pair plot to analyse the patterns of data and realationship between the features. It's exactly same as the correlation map but here you will get the graphical representation."
      ],
      "metadata": {
        "id": "NoVXSM4HJHgg"
      }
    },
    {
      "cell_type": "markdown",
      "source": [
        "## **5. Solution to Business Objective**"
      ],
      "metadata": {
        "id": "JcMwzZxoAimU"
      }
    },
    {
      "cell_type": "markdown",
      "source": [
        "#### What do you suggest the client to achieve Business Objective ?\n",
        "Explain Briefly."
      ],
      "metadata": {
        "id": "8G2x9gOozGDZ"
      }
    },
    {
      "cell_type": "markdown",
      "source": [
        "\n",
        "\n",
        "1. The  Western Europe and North Africa regions are the most targeted so the Govt. of that region should increase their defence and investigation departments and also should ban bombing/explosion raw material.\n",
        "\n",
        "2.  United Kingdom country is the most targeted so the Govt. of that country should increase their defence and investigation departments and also should ban bombing/explosion raw material.\n",
        "\n",
        "3. Make people aware about terrorism.\n",
        "\n",
        "4. Anti terrorism organizations and defence department should keep an eye on IRA which is the most active organisation.\n",
        "\n",
        "5. World should make a strong law act and actions against the Terrorism.\n",
        "\n",
        "6. **Identify Long-Term Trends and Temporal Patterns:**\n",
        "\n",
        " **Insight**: The year 1981 saw the highest number of attacks (2362), while 1986 had the least (1).\n",
        "\n",
        " **Action:** Focus on understanding the factors contributing to the peak in 1981 to prevent future surges.\n",
        "\n",
        "7. **Map the Geographic Distribution and Identify Hotspots**:\n",
        "\n",
        " **Insight:** Western Europe is the most affected region with 5190 attacks, while Australasia & Oceania is the least affected with 22 attacks. The United Kingdom experienced the highest number of attacks (1791), with Belfast being the most affected city (849 attacks).\n",
        "\n",
        " **Action:** Allocate more resources to Western Europe and the United Kingdom, particularly in identified hotspots like Belfast.\n",
        "\n",
        "8. **Classify Attack Types, Targets, and Methods:**\n",
        "\n",
        " **Insight:** Bombing/Explosion is the most common type of attack, with business areas being the most frequent targets (2828 attacks). Explosives are the most used weapon type\n",
        "\n",
        " **Action:** Enhance security measures around business areas and develop strategies to prevent and respond to bombing/explosion attacks.\n",
        "9. **Quantify the Human and Economic Impact:**\n",
        "\n",
        " **Insight:** The concentration of attacks in business areas suggests significant economic impact.\n",
        "\n",
        " **Action:** Implement economic resilience plans and targeted support for businesses in high-risk areas.\n",
        "\n",
        "10. **Profile Active Terrorist Groups:**\n",
        "\n",
        "  **Insight:** The Irish Republican Army (IRA) is the most active terrorist group with 1056 attacks in the United Kingdom.\n",
        "\n",
        "  **Action:** Develop specific counter-terrorism strategies focused on the IRA’s methods and motives.\n",
        "\n",
        "11. **Provide Data-Driven Recommendations:**\n",
        "\n",
        "  **Insight:** The data reveals critical patterns and high-risk areas that can inform counter-terrorism measures.\n",
        "\n",
        "  **Action:** Use the derived insights to guide policy decisions, improve resource allocation, and develop proactive counter-terrorism strategies."
      ],
      "metadata": {
        "id": "pASKb0qOza21"
      }
    },
    {
      "cell_type": "markdown",
      "source": [
        "# **Conclusion**"
      ],
      "metadata": {
        "id": "gCX9965dhzqZ"
      }
    },
    {
      "cell_type": "markdown",
      "source": [
        "The analysis of the GTD data from 1970 to 1986 has provided valuable insights into the trends, patterns, and characteristics of global terrorist activities. By focusing on the identified hotspots, attack types, and active groups, security agencies and policymakers can enhance their counter-terrorism efforts. These data-driven recommendations will aid in prioritizing resource allocation, strengthening security measures, and ultimately mitigating the impact of terrorism. This strategic approach will contribute to a more resilient and secure society, better prepared to handle and prevent terrorist threats."
      ],
      "metadata": {
        "id": "Fjb1IsQkh3yE"
      }
    },
    {
      "cell_type": "markdown",
      "source": [
        "### ***Hurrah! You have successfully completed your EDA Capstone Project !!!***"
      ],
      "metadata": {
        "id": "gIfDvo9L0UH2"
      }
    }
  ]
}